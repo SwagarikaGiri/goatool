{
 "cells": [
  {
   "cell_type": "markdown",
   "metadata": {},
   "source": [
    "# How to traverse to GO parents and ancestors\n",
    "Traverse immediate parents or all ancestors with or without user-specified optional relationships\n",
    "\n",
    "  * **Parents and Ancestors described**\n",
    "  * **Code to get Parents and Ancestors**\n",
    "    * **Get parents through *is_a* relationship**\n",
    "    * **Get parents through *is_a* relationship and optional relationship, *regulates*.**\n",
    "    * **Get ancestors through *is_a* relationship**\n",
    "    * **Get ancestors through *is_a* relationship and optional relationship, *regulates*.**"
   ]
  },
  {
   "cell_type": "markdown",
   "metadata": {},
   "source": [
    "## Parents and Ancestors\n",
    "\n",
    "### Parents\n",
    "Parents are terms directly above a GO term\n",
    "\n",
    "#### The yellow term, *regulation of metabolic process*, has one or two parents.\n",
    "\n",
    "* 1) If using only the default ***is_a*** relationship, the only parent is circled in green:\n",
    "  * *regulation of biological process*\n",
    "\n",
    "* 2) If adding the optional relationship, ***regulates***, the two parents are circled in purple:\n",
    "  * *regulation of biological process*    \n",
    "  * *metabolic process*    \n",
    "  \n",
    "### Ancestors\n",
    "Ancestors are all terms above a GO term, traversing up all of the GO hierarchy.\n",
    "\n",
    "* 3) If adding the optional relationship, ***regulates***, there are four ancestors are circled in blue:\n",
    "  * *biological_process*\n",
    "  * *biological regulation*\n",
    "  * *regulation of biological process*    \n",
    "  * *metabolic process*\n",
    "\n",
    "* If using only the default ***is_a*** relationship, there are three ancestors (not circled)\n",
    "  * *biological_process*\n",
    "  * *biological regulation*\n",
    "  * *regulation of biological process*    \n",
    "  \n",
    "<img src=\"images/parents_and_ancestors.png\" alt=\"parents_and_ancestors\" width=\"550\">\n",
    "\n",
    "## Code to get Parents and Ancestors"
   ]
  },
  {
   "cell_type": "code",
   "execution_count": null,
   "metadata": {},
   "outputs": [],
   "source": [
    "import os\n",
    "from goatools.obo_parser import GODag\n",
    "\n",
    "# Load a small test GO DAG and all the optional relationships,\n",
    "# like 'regulates' and 'part_of'\n",
    "godag = GODag('../tests/data/i126/viral_gene_silence.obo',\n",
    "              optional_attrs={'relationship'})"
   ]
  },
  {
   "cell_type": "markdown",
   "metadata": {},
   "source": [
    "#### Get parents through *is_a* relationship\n",
    "Parent is circled in green"
   ]
  },
  {
   "cell_type": "code",
   "execution_count": null,
   "metadata": {},
   "outputs": [],
   "source": [
    "GO_ID = 'GO:0019222'  # regulation of metabolic process"
   ]
  },
  {
   "cell_type": "code",
   "execution_count": null,
   "metadata": {},
   "outputs": [],
   "source": [
    "from goatools.godag.go_tasks import get_go2parents\n",
    "\n",
    "optional_relationships = set()\n",
    "go2parents_isa = get_go2parents(godag, optional_relationships)\n",
    "print('{GO} parent: {P}'.format(\n",
    "    GO=GO_ID,\n",
    "    P=go2parents_isa[GO_ID]))"
   ]
  },
  {
   "cell_type": "code",
   "execution_count": null,
   "metadata": {},
   "outputs": [],
   "source": [
    "godag"
   ]
  },
  {
   "cell_type": "markdown",
   "metadata": {},
   "source": [
    "#### Get parents through *is_a* relationship and optional relationship, *regulates*\n",
    "Parents are circled in purple"
   ]
  },
  {
   "cell_type": "code",
   "execution_count": null,
   "metadata": {},
   "outputs": [],
   "source": [
    "optional_relationships = {'regulates', 'negatively_regulates', 'positively_regulates'}\n",
    "go2parents_reg = get_go2parents(godag, optional_relationships)\n",
    "print('{GO} parents: {P}'.format(\n",
    "    GO=GO_ID,\n",
    "    P=go2parents_reg[GO_ID]))"
   ]
  },
  {
   "cell_type": "markdown",
   "metadata": {},
   "source": [
    "#### Get ancestors through *is_a* relationship\n",
    "Not circled, but can be seen in figure"
   ]
  },
  {
   "cell_type": "code",
   "execution_count": null,
   "metadata": {},
   "outputs": [],
   "source": [
    "from goatools.gosubdag.gosubdag import GoSubDag\n",
    "\n",
    "gosubdag_r0 = GoSubDag([GO_ID], godag, prt=None)\n",
    "print('{GO} ancestors: {P}'.format(\n",
    "    GO=GO_ID,\n",
    "    P=gosubdag_r0.rcntobj.go2ancestors[GO_ID]))"
   ]
  },
  {
   "cell_type": "markdown",
   "metadata": {},
   "source": [
    "#### Get ancestors through *is_a* relationship and optional relationship, *regulates*\n",
    "Circles in blue"
   ]
  },
  {
   "cell_type": "code",
   "execution_count": null,
   "metadata": {},
   "outputs": [],
   "source": [
    "gosubdag_r1 = GoSubDag([GO_ID], godag, relationships=optional_relationships, prt=None)\n",
    "print('{GO} ancestors: {P}'.format(\n",
    "    GO=GO_ID,\n",
    "    P=gosubdag_r1.rcntobj.go2ancestors[GO_ID]))"
   ]
  },
  {
   "cell_type": "code",
   "execution_count": 18,
   "metadata": {},
   "outputs": [
    {
     "name": "stdout",
     "output_type": "stream",
     "text": [
      "../tests/data/i126/viral_gene_silence.obo: fmt(1.2) rel(2021-11-16) 47,161 Terms; optional_attrs(relationship)\n"
     ]
    }
   ],
   "source": [
    "import os\n",
    "import pandas as pd\n",
    "from goatools.gosubdag.gosubdag import GoSubDag\n",
    "\n",
    "from goatools.obo_parser import GODag\n",
    "\n",
    "# Load a small test GO DAG and all the optional relationships,\n",
    "# like 'regulates' and 'part_of'\n",
    "godag = GODag('../tests/data/i126/viral_gene_silence.obo',\n",
    "              optional_attrs={'relationship'})\n",
    "\n",
    "\n",
    "\n",
    "    \n",
    "    "
   ]
  },
  {
   "cell_type": "code",
   "execution_count": 20,
   "metadata": {},
   "outputs": [
    {
     "name": "stdout",
     "output_type": "stream",
     "text": [
      "{'GO:0008150', 'GO:0016043', 'GO:0048311', 'GO:0006996', 'GO:0051179', 'GO:0048308', 'GO:0007005', 'GO:0051646', 'GO:0051641', 'GO:0071840', 'GO:0051640', 'GO:0009987'}\n",
      "{'GO:0071840', 'GO:0007005', 'GO:0009987', 'GO:0008150', 'GO:0016043', 'GO:0006996'}\n",
      "{'GO:0008150'}\n",
      "1 GO IDs NOT FOUND IN GO DAG: GO:0000005\n"
     ]
    },
    {
     "ename": "KeyError",
     "evalue": "'GO:0000005'",
     "output_type": "error",
     "traceback": [
      "\u001b[0;31m---------------------------------------------------------------------------\u001b[0m",
      "\u001b[0;31mKeyError\u001b[0m                                  Traceback (most recent call last)",
      "\u001b[1;32m/Users/sgiri/Desktop/Projects/Kihara-TextSummarization/goatools/notebooks/parents_and_ancestors.ipynb Cell 15'\u001b[0m in \u001b[0;36m<cell line: 4>\u001b[0;34m()\u001b[0m\n\u001b[1;32m      <a href='vscode-notebook-cell:/Users/sgiri/Desktop/Projects/Kihara-TextSummarization/goatools/notebooks/parents_and_ancestors.ipynb#ch0000015?line=3'>4</a>\u001b[0m \u001b[39mfor\u001b[39;00m ele \u001b[39min\u001b[39;00m goterms:\n\u001b[1;32m      <a href='vscode-notebook-cell:/Users/sgiri/Desktop/Projects/Kihara-TextSummarization/goatools/notebooks/parents_and_ancestors.ipynb#ch0000015?line=4'>5</a>\u001b[0m     gosubdag_r0 \u001b[39m=\u001b[39m GoSubDag([ele], godag, prt\u001b[39m=\u001b[39m\u001b[39mNone\u001b[39;00m)\n\u001b[0;32m----> <a href='vscode-notebook-cell:/Users/sgiri/Desktop/Projects/Kihara-TextSummarization/goatools/notebooks/parents_and_ancestors.ipynb#ch0000015?line=5'>6</a>\u001b[0m     P\u001b[39m=\u001b[39mgosubdag_r0\u001b[39m.\u001b[39;49mrcntobj\u001b[39m.\u001b[39;49mgo2ancestors[ele]\n\u001b[1;32m      <a href='vscode-notebook-cell:/Users/sgiri/Desktop/Projects/Kihara-TextSummarization/goatools/notebooks/parents_and_ancestors.ipynb#ch0000015?line=6'>7</a>\u001b[0m     \u001b[39mprint\u001b[39m(P)\n\u001b[1;32m      <a href='vscode-notebook-cell:/Users/sgiri/Desktop/Projects/Kihara-TextSummarization/goatools/notebooks/parents_and_ancestors.ipynb#ch0000015?line=7'>8</a>\u001b[0m     \u001b[39minput\u001b[39m()\n",
      "\u001b[0;31mKeyError\u001b[0m: 'GO:0000005'"
     ]
    }
   ],
   "source": [
    "filename='GotermList.tab'\n",
    "df = pd.read_csv(filename,sep='\\t')\n",
    "goterms=df['Goterm'].tolist()\n",
    "for ele in goterms:\n",
    "    gosubdag_r0 = GoSubDag([ele], godag, prt=None)\n",
    "    P=gosubdag_r0.rcntobj.go2ancestors[ele]\n",
    "    print(P)\n",
    "    input()"
   ]
  },
  {
   "cell_type": "code",
   "execution_count": null,
   "metadata": {},
   "outputs": [],
   "source": []
  }
 ],
 "metadata": {
  "interpreter": {
   "hash": "f795c6164b3cc55728de84c3852ce5d2eb3b2a32f1c1dee46fb2e040228bc692"
  },
  "kernelspec": {
   "display_name": "Python 3.9.13 ('goatool': venv)",
   "language": "python",
   "name": "python3"
  },
  "language_info": {
   "codemirror_mode": {
    "name": "ipython",
    "version": 3
   },
   "file_extension": ".py",
   "mimetype": "text/x-python",
   "name": "python",
   "nbconvert_exporter": "python",
   "pygments_lexer": "ipython3",
   "version": "3.9.13"
  }
 },
 "nbformat": 4,
 "nbformat_minor": 2
}
