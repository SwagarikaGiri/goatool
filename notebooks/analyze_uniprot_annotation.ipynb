{
 "cells": [
  {
   "cell_type": "code",
   "execution_count": 1,
   "metadata": {},
   "outputs": [],
   "source": [
    "import os\n",
    "import pandas as pd\n",
    "from goatools.gosubdag.gosubdag import GoSubDag\n",
    "import csv\n",
    "\n",
    "from goatools.obo_parser import GODag"
   ]
  },
  {
   "cell_type": "code",
   "execution_count": 2,
   "metadata": {},
   "outputs": [
    {
     "name": "stdout",
     "output_type": "stream",
     "text": [
      "../tests/data/i126/go_2021.obo: fmt(1.2) rel(2021-11-16) 47,155 Terms; optional_attrs(relationship)\n"
     ]
    }
   ],
   "source": [
    "godag = GODag('../tests/data/i126/go_2021.obo',\n",
    "              optional_attrs={'relationship'})"
   ]
  },
  {
   "cell_type": "code",
   "execution_count": null,
   "metadata": {},
   "outputs": [],
   "source": []
  }
 ],
 "metadata": {
  "interpreter": {
   "hash": "740fccc58a3cfb67f325e27caf82188fe674582be10c1451681d4f83999e1dce"
  },
  "kernelspec": {
   "display_name": "Python 3.9.13 ('goatool': venv)",
   "language": "python",
   "name": "python3"
  },
  "language_info": {
   "codemirror_mode": {
    "name": "ipython",
    "version": 3
   },
   "file_extension": ".py",
   "mimetype": "text/x-python",
   "name": "python",
   "nbconvert_exporter": "python",
   "pygments_lexer": "ipython3",
   "version": "3.9.13"
  },
  "orig_nbformat": 4
 },
 "nbformat": 4,
 "nbformat_minor": 2
}
