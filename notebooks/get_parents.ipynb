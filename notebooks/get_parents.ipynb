{
 "cells": [
  {
   "cell_type": "code",
   "execution_count": 5,
   "metadata": {},
   "outputs": [
    {
     "name": "stdout",
     "output_type": "stream",
     "text": [
      "../tests/data/i126/viral_gene_silence.obo: fmt(1.2) rel(2021-11-16) 47,161 Terms; optional_attrs(relationship)\n"
     ]
    }
   ],
   "source": [
    "import os\n",
    "from goatools.obo_parser import GODag\n",
    "\n",
    "# Load a small test GO DAG and all the optional relationships,\n",
    "# like 'regulates' and 'part_of'\n",
    "godag = GODag('../tests/data/i126/viral_gene_silence.obo',\n",
    "              optional_attrs={'relationship'})"
   ]
  },
  {
   "cell_type": "code",
   "execution_count": null,
   "metadata": {},
   "outputs": [],
   "source": []
  }
 ],
 "metadata": {
  "interpreter": {
   "hash": "f795c6164b3cc55728de84c3852ce5d2eb3b2a32f1c1dee46fb2e040228bc692"
  },
  "kernelspec": {
   "display_name": "Python 3.9.13 ('goatool': venv)",
   "language": "python",
   "name": "python3"
  },
  "language_info": {
   "codemirror_mode": {
    "name": "ipython",
    "version": 3
   },
   "file_extension": ".py",
   "mimetype": "text/x-python",
   "name": "python",
   "nbconvert_exporter": "python",
   "pygments_lexer": "ipython3",
   "version": "3.9.13"
  },
  "orig_nbformat": 4
 },
 "nbformat": 4,
 "nbformat_minor": 2
}
